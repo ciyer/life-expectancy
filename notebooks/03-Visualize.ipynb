{
 "cells": [
  {
   "cell_type": "markdown",
   "id": "bb73e956-6082-45dc-b0ce-37a9a22aaa1b",
   "metadata": {},
   "source": [
    "Extract the subset of the data we want to look at."
   ]
  },
  {
   "cell_type": "code",
   "execution_count": null,
   "id": "f137166d-0b73-462a-8e50-ef4473a677ae",
   "metadata": {},
   "outputs": [],
   "source": [
    "import numpy as np\n",
    "import matplotlib as mpl\n",
    "import matplotlib.pyplot as plt\n",
    "import pandas as pd\n",
    "import seaborn as sns"
   ]
  },
  {
   "cell_type": "code",
   "execution_count": null,
   "id": "eabf3e3e-09a9-4a3b-90c4-1a130b7e1b26",
   "metadata": {
    "tags": []
   },
   "outputs": [],
   "source": [
    "sns.set()"
   ]
  },
  {
   "cell_type": "markdown",
   "id": "76b54416-8d29-4b37-91ad-8da38d594391",
   "metadata": {},
   "source": [
    "# Read in the data"
   ]
  },
  {
   "cell_type": "code",
   "execution_count": null,
   "id": "97c097a2-c0ca-4041-ada7-af1af6855fdd",
   "metadata": {},
   "outputs": [],
   "source": [
    "state_df = pd.read_csv(\"../data/viz/state_2022.csv\")\n",
    "state_df.head()"
   ]
  },
  {
   "cell_type": "code",
   "execution_count": null,
   "id": "064f1a3f-770d-4292-a42b-c90168569edd",
   "metadata": {},
   "outputs": [],
   "source": [
    "oecd_df = pd.read_csv(\"../data/viz/oecd.csv\")\n",
    "oecd_df = oecd_df.set_index('cty')\n",
    "oecd_df.head()"
   ]
  },
  {
   "cell_type": "code",
   "execution_count": null,
   "id": "a43db742-ee3a-4d13-83c9-11562272b0d2",
   "metadata": {},
   "outputs": [],
   "source": [
    "oecd_mean = oecd_df['life expectancy'].mean()\n",
    "jpn_val = oecd_df.loc['JPN', 'life expectancy']"
   ]
  },
  {
   "cell_type": "markdown",
   "id": "26adcba2-0a5d-4065-b1b6-f3bbf421e074",
   "metadata": {
    "tags": []
   },
   "source": [
    "# Plot"
   ]
  },
  {
   "cell_type": "code",
   "execution_count": null,
   "id": "7bf1dd67-2cf3-4c1d-8e72-204383286b6d",
   "metadata": {},
   "outputs": [],
   "source": [
    "palette = sns.color_palette()"
   ]
  },
  {
   "cell_type": "code",
   "execution_count": null,
   "id": "80f0db0b-9d49-42a9-bea7-6e65f1c51882",
   "metadata": {},
   "outputs": [],
   "source": [
    "fig, ax = plt.subplots()\n",
    "tdf = state_df[state_df['group'] != 'AIAN']\n",
    "tdf = tdf[tdf['life expectancy'] > 0]\n",
    "col_order = tdf.groupby('group').mean().sort_values('life expectancy')\n",
    "for i, group in enumerate(col_order.index):\n",
    "    ttdf = tdf[tdf['group'] == group]\n",
    "    ax.scatter(ttdf['group'], ttdf['life expectancy'], color=palette[6], alpha=0.5)\n",
    "\n",
    "ax.axhline(oecd_mean, alpha=0.5)\n",
    "ax.annotate(\"Cohort\\nmean\", (1.2, oecd_mean - 3.5))\n",
    "\n",
    "ax.axhline(jpn_val, alpha=0.5)\n",
    "ax.annotate(\"JPN\", (1.2, jpn_val));\n",
    "\n",
    "a_tdf = state_df[state_df['group'] == 'Asian']\n",
    "asian_count = len(a_tdf[a_tdf['life expectancy'] > oecd_mean])\n",
    "ax.annotate(f\"> cohort in\\n{asian_count} states\", (2.6, 95))\n",
    "asian_count = len(a_tdf[a_tdf['life expectancy'] > jpn_val])\n",
    "ax.annotate(f\"> JPN in\\n{asian_count} states\", (2.5, 90))\n",
    "\n",
    "h_tdf = state_df[state_df['group'] == 'Hispanic']\n",
    "hispanic_count = len(h_tdf[h_tdf['life expectancy'] > oecd_mean])\n",
    "ax.annotate(f\"> cohort in\\n{hispanic_count} states\", (1.7, 95));\n",
    "hispanic_count = len(h_tdf[h_tdf['life expectancy'] > jpn_val])\n",
    "ax.annotate(f\"> JPN in\\n{hispanic_count} states\", (1.5, 90));"
   ]
  },
  {
   "cell_type": "markdown",
   "id": "9a9d178b-ed46-4e44-ab58-5a91d222d7be",
   "metadata": {},
   "source": [
    "# Life Expectancy vs. Income"
   ]
  },
  {
   "cell_type": "code",
   "execution_count": null,
   "id": "4f3c0b69-5c8b-44ea-92d6-0490e52fec4f",
   "metadata": {},
   "outputs": [],
   "source": [
    "reg_df = pd.read_csv(\"../data/viz/regression_2022.csv\")"
   ]
  },
  {
   "cell_type": "code",
   "execution_count": null,
   "id": "e7ad9415-d497-40f3-876a-8ef7dacfb649",
   "metadata": {},
   "outputs": [],
   "source": [
    "tdf = state_df[state_df['life expectancy'] > 0]\n",
    "col_order = tdf.groupby('group').mean().sort_values('life expectancy')\n",
    "fig, axs = plt.subplots(1, len(col_order), sharex=True, sharey=True, figsize=(12, 3))\n",
    "for i, group in enumerate(col_order.index):\n",
    "    ttdf = tdf[tdf['group'] == group]\n",
    "    ax = axs[i]\n",
    "    ax.scatter(ttdf['income'] / 1000, ttdf['life expectancy'], color=palette[6], alpha=0.4)\n",
    "    ax.set_title(group)\n",
    "    ttdf = reg_df[reg_df['group'] == group]\n",
    "    ax.plot(ttdf['x'], ttdf['y'], color=palette[0])\n",
    "    \n",
    "    ax.axhline(oecd_mean, alpha=0.5)\n",
    "    ax.axhline(jpn_val, alpha=0.5)\n",
    "    label = \"$r^2={:.2f}$\".format(ttdf.iloc[0]['r2'])\n",
    "    ax.annotate(label, (95, 100))\n",
    "    label = \"$slope={:.2f}$\".format(ttdf.iloc[0]['slope'])\n",
    "    ax.annotate(label, (95, 97))\n",
    "    \n",
    "    if i == 0:\n",
    "        ax.set_ylabel('life expectancy')\n",
    "        ax.set_xlabel('income (thousands)')\n",
    "        ax.annotate(\"JPN\", (110, jpn_val))\n",
    "        ax.annotate(\"Cohort\\nmean\", (110, oecd_mean - 3.5))"
   ]
  }
 ],
 "metadata": {
  "kernelspec": {
   "display_name": "Python 3 (ipykernel)",
   "language": "python",
   "name": "python3"
  },
  "language_info": {
   "codemirror_mode": {
    "name": "ipython",
    "version": 3
   },
   "file_extension": ".py",
   "mimetype": "text/x-python",
   "name": "python",
   "nbconvert_exporter": "python",
   "pygments_lexer": "ipython3",
   "version": "3.10.5"
  }
 },
 "nbformat": 4,
 "nbformat_minor": 5
}

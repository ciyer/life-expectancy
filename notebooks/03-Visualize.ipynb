{
 "cells": [
  {
   "cell_type": "markdown",
   "id": "bb73e956-6082-45dc-b0ce-37a9a22aaa1b",
   "metadata": {},
   "source": [
    "Extract the subset of the data we want to look at."
   ]
  },
  {
   "cell_type": "code",
   "execution_count": null,
   "id": "f137166d-0b73-462a-8e50-ef4473a677ae",
   "metadata": {},
   "outputs": [],
   "source": [
    "import numpy as np\n",
    "import matplotlib as mpl\n",
    "import matplotlib.pyplot as plt\n",
    "import pandas as pd\n",
    "import seaborn as sns"
   ]
  },
  {
   "cell_type": "code",
   "execution_count": null,
   "id": "eabf3e3e-09a9-4a3b-90c4-1a130b7e1b26",
   "metadata": {
    "tags": []
   },
   "outputs": [],
   "source": [
    "sns.set()"
   ]
  },
  {
   "cell_type": "markdown",
   "id": "76b54416-8d29-4b37-91ad-8da38d594391",
   "metadata": {},
   "source": [
    "# Read in the data"
   ]
  },
  {
   "cell_type": "code",
   "execution_count": null,
   "id": "c666574d-3389-4242-baec-8128f0d56162",
   "metadata": {},
   "outputs": [],
   "source": [
    "raw_df = pd.read_csv(\"../data/division.csv\")"
   ]
  },
  {
   "cell_type": "code",
   "execution_count": null,
   "id": "e5c92346-9caa-42a3-b9d3-5ed213fb82b7",
   "metadata": {},
   "outputs": [],
   "source": [
    "raw_df.head()"
   ]
  },
  {
   "cell_type": "code",
   "execution_count": null,
   "id": "ae803656-0060-488d-8628-bd5db95c9138",
   "metadata": {},
   "outputs": [],
   "source": [
    "state_df = pd.read_csv(\"../data/viz/state.csv\")"
   ]
  },
  {
   "cell_type": "code",
   "execution_count": null,
   "id": "6b79c596-3150-4cc8-bef6-4ef062955193",
   "metadata": {},
   "outputs": [],
   "source": [
    "state_df.head()"
   ]
  },
  {
   "cell_type": "code",
   "execution_count": null,
   "id": "60ec7602-46de-4234-a182-6d70f9893855",
   "metadata": {},
   "outputs": [],
   "source": [
    "oecd_df = pd.read_csv(\"../data/oecd/DP_LIVE_13082022233500657.csv\")\n",
    "oecd_df = oecd_df[['LOCATION', 'Value']]\n",
    "\n",
    "country_names = {'AUS': 'Australia',\n",
    "                 'AUT': 'Austria',\n",
    "                 'BEL': 'Belgium',\n",
    "                 'CAN': 'Canada',\n",
    "                 'CHE': 'Switzerland',\n",
    "                 'DEU': 'Germany',\n",
    "                 'DNK': 'Denmark',\n",
    "                 'ESP': 'Spain',\n",
    "                 'FIN': 'Finland',\n",
    "                 'FRA': 'France',\n",
    "                 'GBR': 'United Kingdom',\n",
    "                 'IRL': 'Ireland',\n",
    "                 'ISR': 'Israel', \n",
    "                 'ITA': 'Italy',\n",
    "                 'JPN': 'Japan',\n",
    "                 'KOR': 'South Korea',\n",
    "                 'NLD': 'Netherlands',\n",
    "                 'NOR': 'Norway',\n",
    "                 'NZL': 'New Zealand',\n",
    "                 'PRT': 'Portugal',\n",
    "                 'SWE': 'Sweden',\n",
    "                 'USA': 'USA'}\n",
    "\n",
    "oecd_df['name'] = oecd_df['LOCATION'].map(lambda x: country_names.get(x))\n",
    "\n",
    "oecd_df = oecd_df[oecd_df['name'].notna()]\n",
    "oecd_df = oecd_df.set_index('LOCATION')\n",
    "oecd_df.head()"
   ]
  },
  {
   "cell_type": "code",
   "execution_count": null,
   "id": "a43db742-ee3a-4d13-83c9-11562272b0d2",
   "metadata": {},
   "outputs": [],
   "source": [
    "oecd_mean = oecd_df['Value'].mean()"
   ]
  },
  {
   "cell_type": "markdown",
   "id": "26adcba2-0a5d-4065-b1b6-f3bbf421e074",
   "metadata": {
    "tags": []
   },
   "source": [
    "# Plot"
   ]
  },
  {
   "cell_type": "code",
   "execution_count": null,
   "id": "80f0db0b-9d49-42a9-bea7-6e65f1c51882",
   "metadata": {},
   "outputs": [],
   "source": [
    "fig, ax = plt.subplots()\n",
    "tdf = state_df[state_df['group'] != 'AIAN']\n",
    "tdf = tdf[tdf['life expectancy'] > 0]\n",
    "col_order = tdf.groupby('group').mean().sort_values('life expectancy')\n",
    "for i, group in enumerate(col_order.index):\n",
    "    ttdf = tdf[tdf['group'] == group]\n",
    "    ax.scatter(ttdf['group'], ttdf['life expectancy'], alpha=0.7)\n",
    "\n",
    "ax.axhline(oecd_mean, alpha=0.5)\n",
    "ax.annotate(\"OECD Comparison mean\", (1.2, oecd_mean - 2))\n",
    "\n",
    "jpn_val = oecd_df.loc['JPN', 'Value']\n",
    "ax.axhline(jpn_val, alpha=0.5)\n",
    "ax.annotate(\"JPN\", (1.2, jpn_val + 1))"
   ]
  },
  {
   "cell_type": "code",
   "execution_count": null,
   "id": "75201a76-7f70-4829-94ec-d277c3088853",
   "metadata": {},
   "outputs": [],
   "source": [
    "state_df[state_df['group'] == 'Asian'].sort_values(\"life expectancy\")"
   ]
  },
  {
   "cell_type": "code",
   "execution_count": null,
   "id": "9761b59e-4980-4c4a-bb40-1954e701059b",
   "metadata": {},
   "outputs": [],
   "source": [
    "a_tdf = state_df[state_df['group'] == 'Asian']\n",
    "len(a_tdf[a_tdf['life expectancy'] > 84.6])"
   ]
  },
  {
   "cell_type": "code",
   "execution_count": null,
   "id": "0d1fc522-867a-4a7e-84e9-f5f240a97484",
   "metadata": {},
   "outputs": [],
   "source": [
    "h_tdf = state_df[state_df['group'] == 'Hispanic']\n",
    "len(h_tdf[h_tdf['life expectancy'] > 84.6])"
   ]
  },
  {
   "cell_type": "code",
   "execution_count": null,
   "id": "823db353-8000-4d21-8f5a-aeec72578e0d",
   "metadata": {},
   "outputs": [],
   "source": [
    "h_tdf.sort_values('life expectancy')"
   ]
  },
  {
   "cell_type": "markdown",
   "id": "9a9d178b-ed46-4e44-ab58-5a91d222d7be",
   "metadata": {},
   "source": [
    "# Life Expectancy vs. Income"
   ]
  },
  {
   "cell_type": "code",
   "execution_count": null,
   "id": "76093e19-4ff5-45af-8228-fbca4bcbeab6",
   "metadata": {
    "tags": []
   },
   "outputs": [],
   "source": [
    "col_order = state_df.groupby('group').mean().sort_values('life expectancy').index\n",
    "g = sns.FacetGrid(tdf, col='group', col_order=col_order)\n",
    "g.map(sns.regplot, \"income\", \"life expectancy\")"
   ]
  }
 ],
 "metadata": {
  "kernelspec": {
   "display_name": "Python 3 (ipykernel)",
   "language": "python",
   "name": "python3"
  },
  "language_info": {
   "codemirror_mode": {
    "name": "ipython",
    "version": 3
   },
   "file_extension": ".py",
   "mimetype": "text/x-python",
   "name": "python",
   "nbconvert_exporter": "python",
   "pygments_lexer": "ipython3",
   "version": "3.10.5"
  }
 },
 "nbformat": 4,
 "nbformat_minor": 5
}

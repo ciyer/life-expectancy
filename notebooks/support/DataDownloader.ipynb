{
 "cells": [
  {
   "cell_type": "markdown",
   "id": "4d0ba15f-89a3-4bb2-9739-00fbcf3725be",
   "metadata": {},
   "source": [
    "Helpers to generate a script to download the data sheets from \n",
    "\n",
    "https://www.countyhealthrankings.org/explore-health-rankings/rankings-data-documentation\n"
   ]
  },
  {
   "cell_type": "code",
   "execution_count": null,
   "id": "1c74ee26-0479-4c52-b49d-49c1d62959ce",
   "metadata": {},
   "outputs": [],
   "source": [
    "states = [\n",
    "'Alabama',\n",
    "'Alaska',\n",
    "'Arizona',\n",
    "'Arkansas',\n",
    "'California',\n",
    "'Colorado',\n",
    "'Connecticut',\n",
    "'Delaware',\n",
    "'District_of_Columbia',\n",
    "'Florida',\n",
    "'Georgia',\n",
    "'Hawaii',\n",
    "'Idaho',\n",
    "'Illinois',\n",
    "'Indiana',\n",
    "'Iowa',\n",
    "'Kansas',\n",
    "'Kentucky',\n",
    "'Louisiana',\n",
    "'Maine',\n",
    "'Maryland',\n",
    "'Massachusetts',\n",
    "'Michigan',\n",
    "'Minnesota',\n",
    "'Mississippi',\n",
    "'Missouri',\n",
    "'Montana',\n",
    "'Nebraska',\n",
    "'Nevada',\n",
    "'New_Hampshire',\n",
    "'New_Jersey',\n",
    "'New_Mexico',\n",
    "'New_York',\n",
    "'North_Carolina',\n",
    "'North_Dakota',\n",
    "'Ohio',\n",
    "'Oklahoma',\n",
    "'Oregon',\n",
    "'Pennsylvania',\n",
    "'Rhode_Island',\n",
    "'South_Carolina',\n",
    "'South_Dakota',\n",
    "'Tennessee',\n",
    "'Texas',\n",
    "'Utah',\n",
    "'Vermont',\n",
    "'Virginia',\n",
    "'Washington',\n",
    "'West_Virginia',\n",
    "'Wisconsin',\n",
    "'Wyoming'\n",
    "]"
   ]
  },
  {
   "cell_type": "markdown",
   "id": "20accf98-b422-472c-9772-40bc83336d5d",
   "metadata": {},
   "source": [
    "# 2020 data"
   ]
  },
  {
   "cell_type": "code",
   "execution_count": null,
   "id": "543632c1-47ef-45b2-8a2d-8e57584dafde",
   "metadata": {
    "tags": []
   },
   "outputs": [],
   "source": [
    "overrides_2020 = {\n",
    "    'Alabama': 'https://www.countyhealthrankings.org/sites/default/files/media/document/2020%20County%20Health%20Rankings%20Alabama%20Data%20-%20v1_1.xlsx',\n",
    "    'North_Dakota': 'https://www.countyhealthrankings.org/sites/default/files/media/document/2020%20County%20Health%20Rankings%20North%20Dakota%20Data%20-%20v1_1.xlsx',\n",
    "    'West_Virginia': 'https://www.countyhealthrankings.org/sites/default/files/media/document/2020%20County%20Health%20Rankings%20West%20Virginia%20Data%20-%20v1.xlsx',\n",
    "    'Wyoming': 'https://www.countyhealthrankings.org/sites/default/files/media/document/2020%20County%20Health%20Rankings%20Wyoming%20Data%20-%20v1.xlsx'    \n",
    "}"
   ]
  },
  {
   "cell_type": "code",
   "execution_count": null,
   "id": "db0dab82-b419-45ae-af4a-abfb5ddd3f0d",
   "metadata": {},
   "outputs": [],
   "source": [
    "for state in states:\n",
    "    st = state.replace(\"_\", \"%20\")\n",
    "    url = f\"https://www.countyhealthrankings.org/sites/default/files/media/document/2020%20County%20Health%20Rankings%20{st}%20Data%20-%20v1_0.xlsx\"\n",
    "    if overrides_2020.get(state) is not None:\n",
    "        url = overrides_2020[state]\n",
    "    curl_cmd = f\"curl {url} -o data/rwjf_2020/{state}.xlsx\"\n",
    "    print(curl_cmd)"
   ]
  },
  {
   "cell_type": "markdown",
   "id": "9bfb82e2-ea2f-4457-a978-a4d2ee8f2eb6",
   "metadata": {},
   "source": [
    "# 2022 Data"
   ]
  },
  {
   "cell_type": "code",
   "execution_count": null,
   "id": "4d1d4891-9365-4d8f-9713-7f54faf5d271",
   "metadata": {
    "tags": []
   },
   "outputs": [],
   "source": [
    "overrides_2022 = {\n",
    "    'Minnesota': 'https://www.countyhealthrankings.org/sites/default/files/media/document/2022%20County%20Health%20Rankings%20Minnesota%20Data%20-%20v1_0.xlsx',\n",
    "    'Nebraska': 'https://www.countyhealthrankings.org/sites/default/files/media/document/2022%20County%20Health%20Rankings%20Nebraska%20Data%20-%20v1_0.xlsx',\n",
    "    'New_Mexico': 'https://www.countyhealthrankings.org/sites/default/files/media/document/2022%20County%20Health%20Rankings%20New%20Mexico%20Data%20-%20v1_0.xlsx',\n",
    "    'Ohio': 'https://www.countyhealthrankings.org/sites/default/files/media/document/2022%20County%20Health%20Rankings%20Ohio%20Data%20-%20v1_0.xlsx',\n",
    "}"
   ]
  },
  {
   "cell_type": "code",
   "execution_count": null,
   "id": "63bd129b-4a54-4c87-b3a4-6054f441b8a5",
   "metadata": {},
   "outputs": [],
   "source": [
    "for state in states:\n",
    "    st = state.replace(\"_\", \"%20\")\n",
    "    url = f\"https://www.countyhealthrankings.org/sites/default/files/media/document/2022%20County%20Health%20Rankings%20{st}%20Data%20-%20v1.xlsx\"\n",
    "    if overrides_2022.get(state) is not None:\n",
    "        url = overrides_2022[state]\n",
    "    curl_cmd = f\"curl {url} -o data/rwjf_2022/{state}.xlsx\"\n",
    "    print(curl_cmd)"
   ]
  },
  {
   "cell_type": "code",
   "execution_count": null,
   "id": "4fdac9e5-470e-49c4-b819-0673450150f7",
   "metadata": {},
   "outputs": [],
   "source": []
  }
 ],
 "metadata": {
  "kernelspec": {
   "display_name": "Python 3 (ipykernel)",
   "language": "python",
   "name": "python3"
  },
  "language_info": {
   "codemirror_mode": {
    "name": "ipython",
    "version": 3
   },
   "file_extension": ".py",
   "mimetype": "text/x-python",
   "name": "python",
   "nbconvert_exporter": "python",
   "pygments_lexer": "ipython3",
   "version": "3.10.5"
  }
 },
 "nbformat": 4,
 "nbformat_minor": 5
}

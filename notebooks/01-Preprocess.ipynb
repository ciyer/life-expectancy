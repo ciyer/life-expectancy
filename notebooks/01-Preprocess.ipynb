{
 "cells": [
  {
   "cell_type": "markdown",
   "id": "bb73e956-6082-45dc-b0ce-37a9a22aaa1b",
   "metadata": {},
   "source": [
    "Extract the subset of the data we want to look at."
   ]
  },
  {
   "cell_type": "code",
   "execution_count": null,
   "id": "f137166d-0b73-462a-8e50-ef4473a677ae",
   "metadata": {},
   "outputs": [],
   "source": [
    "import numpy as np\n",
    "import matplotlib as mpl\n",
    "import matplotlib.pyplot as plt\n",
    "import pandas as pd\n",
    "import seaborn as sns"
   ]
  },
  {
   "cell_type": "markdown",
   "id": "76b54416-8d29-4b37-91ad-8da38d594391",
   "metadata": {
    "tags": []
   },
   "source": [
    "# Identify columns (2020 data)\n",
    "\n",
    "Use the Alaska data to identify the colums we want."
   ]
  },
  {
   "cell_type": "code",
   "execution_count": null,
   "id": "6a7f10ee-c974-4e3e-98e3-3161926a6e14",
   "metadata": {},
   "outputs": [],
   "source": [
    "def read_state_2020_df(state):\n",
    "    df = pd.read_excel(f\"../data/rwjf_2020/{state}.xlsx\", \"Additional Measure Data\", header=1)\n",
    "    # standardize the column name of Borough/County/Parish\n",
    "    df = df.rename(columns={'Borough': 'Division', 'County': 'Division', 'Parish': 'Division'})\n",
    "    return df"
   ]
  },
  {
   "cell_type": "code",
   "execution_count": null,
   "id": "c666574d-3389-4242-baec-8128f0d56162",
   "metadata": {},
   "outputs": [],
   "source": [
    "df = read_state_2020_df(\"Alaska\")"
   ]
  },
  {
   "cell_type": "code",
   "execution_count": null,
   "id": "e5c92346-9caa-42a3-b9d3-5ed213fb82b7",
   "metadata": {},
   "outputs": [],
   "source": [
    "df.head()"
   ]
  },
  {
   "cell_type": "code",
   "execution_count": null,
   "id": "0ee1b321-d54c-4223-8299-dbac248d207a",
   "metadata": {},
   "outputs": [],
   "source": [
    "df.columns"
   ]
  },
  {
   "cell_type": "code",
   "execution_count": null,
   "id": "c5dffd88-cfde-4e83-8049-2ec94cc09b84",
   "metadata": {},
   "outputs": [],
   "source": [
    "le_cols = [c for c in df.columns if c.startswith('Life Expectancy (') and c.endswith(')')]"
   ]
  },
  {
   "cell_type": "code",
   "execution_count": null,
   "id": "52d9f2ce-1422-41fe-a844-f86d0ccf59ff",
   "metadata": {},
   "outputs": [],
   "source": [
    "pop_cols = ['Population', \n",
    "            '# Black', '% Black', \n",
    "            '# American Indian & Alaska Native', '% American Indian & Alaska Native', \n",
    "            '# Asian', '% Asian',\n",
    "            '# Native Hawaiian/Other Pacific Islander',\n",
    "            '% Native Hawaiian/Other Pacific Islander', \n",
    "            '# Hispanic', '% Hispanic',\n",
    "            '# Non-Hispanic White', '% Non-Hispanic White',\n",
    "            '% Female']"
   ]
  },
  {
   "cell_type": "code",
   "execution_count": null,
   "id": "6e121dc4-134f-427b-881e-7130dac1fa21",
   "metadata": {},
   "outputs": [],
   "source": [
    "income_cols = [c for c in df.columns if \"Income\" in c]"
   ]
  },
  {
   "cell_type": "code",
   "execution_count": null,
   "id": "6cdac776-1a3a-4a45-a95e-3e739d07de12",
   "metadata": {},
   "outputs": [],
   "source": [
    "cols = ['FIPS', 'State', 'Division', 'Life Expectancy']\n",
    "cols.extend(le_cols)\n",
    "cols.extend(pop_cols)\n",
    "cols.extend(income_cols)"
   ]
  },
  {
   "cell_type": "markdown",
   "id": "606d5fcf-3de9-46b0-8021-57c207e1e7e5",
   "metadata": {},
   "source": [
    "Here are the columns"
   ]
  },
  {
   "cell_type": "code",
   "execution_count": null,
   "id": "318f0c12-dacd-49eb-ac45-3fd97cf4e875",
   "metadata": {},
   "outputs": [],
   "source": [
    "cols"
   ]
  },
  {
   "cell_type": "markdown",
   "id": "a003db6d-1c4b-4892-ab23-ef391eb630d2",
   "metadata": {
    "tags": []
   },
   "source": [
    "# Subset data\n",
    "\n",
    "Create a table with these columns for all states and territories."
   ]
  },
  {
   "cell_type": "code",
   "execution_count": null,
   "id": "425fe1a5-e8c5-464f-af73-567ca89a19f4",
   "metadata": {},
   "outputs": [],
   "source": [
    "states = [\n",
    "'Alabama',\n",
    "'Alaska',\n",
    "'Arizona',\n",
    "'Arkansas',\n",
    "'California',\n",
    "'Colorado',\n",
    "'Connecticut',\n",
    "'Delaware',\n",
    "'District_of_Columbia',\n",
    "'Florida',\n",
    "'Georgia',\n",
    "'Hawaii',\n",
    "'Idaho',\n",
    "'Illinois',\n",
    "'Indiana',\n",
    "'Iowa',\n",
    "'Kansas',\n",
    "'Kentucky',\n",
    "'Louisiana',\n",
    "'Maine',\n",
    "'Maryland',\n",
    "'Massachusetts',\n",
    "'Michigan',\n",
    "'Minnesota',\n",
    "'Mississippi',\n",
    "'Missouri',\n",
    "'Montana',\n",
    "'Nebraska',\n",
    "'Nevada',\n",
    "'New_Hampshire',\n",
    "'New_Jersey',\n",
    "'New_Mexico',\n",
    "'New_York',\n",
    "'North_Carolina',\n",
    "'North_Dakota',\n",
    "'Ohio',\n",
    "'Oklahoma',\n",
    "'Oregon',\n",
    "'Pennsylvania',\n",
    "'Rhode_Island',\n",
    "'South_Carolina',\n",
    "'South_Dakota',\n",
    "'Tennessee',\n",
    "'Texas',\n",
    "'Utah',\n",
    "'Vermont',\n",
    "'Virginia',\n",
    "'Washington',\n",
    "'West_Virginia',\n",
    "'Wisconsin',\n",
    "'Wyoming'\n",
    "]"
   ]
  },
  {
   "cell_type": "code",
   "execution_count": null,
   "id": "57b946b3-95e9-43af-a3c7-ca5a1ef217cd",
   "metadata": {},
   "outputs": [],
   "source": [
    "subsets = []\n",
    "for state in states:\n",
    "    print(f\"Processing {state}\")\n",
    "    df = read_state_df(state)\n",
    "    subsets.append(df[cols])"
   ]
  },
  {
   "cell_type": "code",
   "execution_count": null,
   "id": "69a13e8f-229e-4bb0-8e86-bfd583301643",
   "metadata": {},
   "outputs": [],
   "source": [
    "len(subsets)"
   ]
  },
  {
   "cell_type": "markdown",
   "id": "dc88ab74-53af-4a31-9dfe-c3e3361f26b5",
   "metadata": {
    "tags": []
   },
   "source": [
    "# Export data\n",
    "\n",
    "First the division-level data"
   ]
  },
  {
   "cell_type": "code",
   "execution_count": null,
   "id": "22e997a5-6a0f-449e-bbb8-12061a41cab6",
   "metadata": {},
   "outputs": [],
   "source": [
    "df_2020 = pd.concat(subsets)"
   ]
  },
  {
   "cell_type": "code",
   "execution_count": null,
   "id": "e3ea84ba-38d7-4601-8c42-4f6d67f32470",
   "metadata": {},
   "outputs": [],
   "source": [
    "# Look at only Borough/County/Parish data\n",
    "df_2020 = df_2020.dropna(subset='Division')"
   ]
  },
  {
   "cell_type": "code",
   "execution_count": null,
   "id": "7d76615d-5baa-4c18-86b1-6e1fb0b6bd1c",
   "metadata": {},
   "outputs": [],
   "source": [
    "df_2020.head()"
   ]
  },
  {
   "cell_type": "code",
   "execution_count": null,
   "id": "37e83bf6-658e-4c48-b09e-371c33d9c9ef",
   "metadata": {},
   "outputs": [],
   "source": [
    "df_2020.to_csv(\"../data/rwjf/division_2020.csv\", index=False)"
   ]
  },
  {
   "cell_type": "markdown",
   "id": "453b0c32-8a67-4de2-8bbc-e3c2773621cd",
   "metadata": {},
   "source": [
    "Then the state-level data"
   ]
  },
  {
   "cell_type": "code",
   "execution_count": null,
   "id": "7691ec36-ce84-44e8-95a4-c431caf8715a",
   "metadata": {},
   "outputs": [],
   "source": [
    "df_2020_states = pd.concat(subsets)\n",
    "df_2020_states = df_2020_states[pd.isna(df_2020_states['Division'])]\n",
    "df_2020_states.head()"
   ]
  },
  {
   "cell_type": "code",
   "execution_count": null,
   "id": "1d83d37b-bbf1-4b98-9076-6fdda7aa9a86",
   "metadata": {},
   "outputs": [],
   "source": [
    "df_2020_states.to_csv(\"../data/rwjf/state_2020.csv\", index=False)"
   ]
  },
  {
   "cell_type": "markdown",
   "id": "6c8c062d-11dd-4078-b0fd-e134340dc238",
   "metadata": {
    "tags": []
   },
   "source": [
    "# Identify columns (2022 data)\n",
    "\n",
    "Now do the same for the 2022 data"
   ]
  },
  {
   "cell_type": "code",
   "execution_count": null,
   "id": "79d46ea8-b07b-4f4b-bc9d-66aa1dc2912b",
   "metadata": {},
   "outputs": [],
   "source": [
    "def read_state_2022_df(state):\n",
    "    df = pd.read_excel(f\"../data/rwjf_2022/{state}.xlsx\", \"Additional Measure Data\", header=1)\n",
    "    # standardize the column name of Borough/County/Parish\n",
    "    df = df.rename(columns={'Borough': 'Division', 'County': 'Division', 'Parish': 'Division'})\n",
    "    return df"
   ]
  },
  {
   "cell_type": "code",
   "execution_count": null,
   "id": "32551d9d-1649-4193-b4bb-bb4931c91f72",
   "metadata": {},
   "outputs": [],
   "source": [
    "df = read_state_2022_df(\"Alaska\")"
   ]
  },
  {
   "cell_type": "code",
   "execution_count": null,
   "id": "82da6e7f-d6f7-49ce-916e-6882c6b139ec",
   "metadata": {},
   "outputs": [],
   "source": [
    "df.head()"
   ]
  },
  {
   "cell_type": "markdown",
   "id": "a7369bf7-d80b-495e-8209-054bf705be75",
   "metadata": {},
   "source": [
    "Let us check that the columns from the 2020 data are all still here"
   ]
  },
  {
   "cell_type": "code",
   "execution_count": null,
   "id": "b0e0f0f6-49c5-4c5d-8bbe-cfe2d8f82626",
   "metadata": {},
   "outputs": [],
   "source": [
    "found_cols = []\n",
    "missing_cols = []\n",
    "for c in cols:\n",
    "    if c not in df.columns:\n",
    "        missing_cols.append(c)\n",
    "    else:\n",
    "        found_cols.append(c)\n",
    "missing_cols"
   ]
  },
  {
   "cell_type": "markdown",
   "id": "59e7d980-816b-4b37-81f8-00713f61eecf",
   "metadata": {},
   "source": [
    "There are a few columns we need to fix up"
   ]
  },
  {
   "cell_type": "markdown",
   "id": "d8967ecd-2c58-4354-9405-7c5d4dfcd266",
   "metadata": {},
   "source": [
    "It looks like 'White' was renamed to 'white' and 'Female' was changed to 'female'. Let us reverse that so the format is consistent to work with."
   ]
  },
  {
   "cell_type": "code",
   "execution_count": null,
   "id": "50f36d69-6721-4e79-b33b-1d0b2fa1770e",
   "metadata": {},
   "outputs": [],
   "source": [
    "rename_dict = {c.replace('White', 'white'): c for c in missing_cols}\n",
    "rename_dict['% female'] = '% Female'\n",
    "tdf = df.rename(columns=rename_dict)\n",
    "\n",
    "found_cols = []\n",
    "missing_cols = []\n",
    "for c in cols:\n",
    "    if c not in tdf.columns:\n",
    "        missing_cols.append(c)\n",
    "    else:\n",
    "        found_cols.append(c)\n",
    "missing_cols"
   ]
  },
  {
   "cell_type": "markdown",
   "id": "bfce5a9a-3d80-4e4e-a3f0-ed05e21c6c15",
   "metadata": {},
   "source": [
    "Ok, let us work with this."
   ]
  },
  {
   "cell_type": "code",
   "execution_count": null,
   "id": "4021bdb9-83b5-4203-b279-4df164c7e5ae",
   "metadata": {},
   "outputs": [],
   "source": [
    "def read_state_2022_df(state):\n",
    "    df = pd.read_excel(f\"../data/rwjf_2022/{state}.xlsx\", \"Additional Measure Data\", header=1)\n",
    "    # standardize the column name of Borough/County/Parish\n",
    "    df = df.rename(columns={'Borough': 'Division', 'County': 'Division', 'Parish': 'Division'})\n",
    "    df = df.rename(columns=rename_dict)\n",
    "    return df"
   ]
  },
  {
   "cell_type": "markdown",
   "id": "1fbba837-9b28-451f-ad7f-e1d41eb235a1",
   "metadata": {
    "tags": []
   },
   "source": [
    "# Subset data\n",
    "\n",
    "Create a table with these columns for all states and territories."
   ]
  },
  {
   "cell_type": "code",
   "execution_count": null,
   "id": "d3149ddf-9ac6-4f74-8d4f-6bc8f5d7858d",
   "metadata": {},
   "outputs": [],
   "source": [
    "states = [\n",
    "'Alabama',\n",
    "'Alaska',\n",
    "'Arizona',\n",
    "'Arkansas',\n",
    "'California',\n",
    "'Colorado',\n",
    "'Connecticut',\n",
    "'Delaware',\n",
    "'District_of_Columbia',\n",
    "'Florida',\n",
    "'Georgia',\n",
    "'Hawaii',\n",
    "'Idaho',\n",
    "'Illinois',\n",
    "'Indiana',\n",
    "'Iowa',\n",
    "'Kansas',\n",
    "'Kentucky',\n",
    "'Louisiana',\n",
    "'Maine',\n",
    "'Maryland',\n",
    "'Massachusetts',\n",
    "'Michigan',\n",
    "'Minnesota',\n",
    "'Mississippi',\n",
    "'Missouri',\n",
    "'Montana',\n",
    "'Nebraska',\n",
    "'Nevada',\n",
    "'New_Hampshire',\n",
    "'New_Jersey',\n",
    "'New_Mexico',\n",
    "'New_York',\n",
    "'North_Carolina',\n",
    "'North_Dakota',\n",
    "'Ohio',\n",
    "'Oklahoma',\n",
    "'Oregon',\n",
    "'Pennsylvania',\n",
    "'Rhode_Island',\n",
    "'South_Carolina',\n",
    "'South_Dakota',\n",
    "'Tennessee',\n",
    "'Texas',\n",
    "'Utah',\n",
    "'Vermont',\n",
    "'Virginia',\n",
    "'Washington',\n",
    "'West_Virginia',\n",
    "'Wisconsin',\n",
    "'Wyoming'\n",
    "]"
   ]
  },
  {
   "cell_type": "code",
   "execution_count": null,
   "id": "d66fefe6-8918-44b8-b553-43b302468acf",
   "metadata": {},
   "outputs": [],
   "source": [
    "subsets = []\n",
    "for state in states:\n",
    "    print(f\"Processing {state}\")\n",
    "    df = read_state_2022_df(state)\n",
    "    subsets.append(df[cols])"
   ]
  },
  {
   "cell_type": "code",
   "execution_count": null,
   "id": "7d4a922f-a38f-49ab-8302-26cfa09153d2",
   "metadata": {},
   "outputs": [],
   "source": [
    "len(subsets)"
   ]
  },
  {
   "cell_type": "markdown",
   "id": "4424f6b3-28a9-4ff3-99db-f9b93615cd08",
   "metadata": {
    "tags": []
   },
   "source": [
    "# Export data\n",
    "\n",
    "First the division-level data"
   ]
  },
  {
   "cell_type": "code",
   "execution_count": null,
   "id": "8929ce67-1efd-4c94-9e91-f9e6cb320b71",
   "metadata": {},
   "outputs": [],
   "source": [
    "df_2022 = pd.concat(subsets)"
   ]
  },
  {
   "cell_type": "code",
   "execution_count": null,
   "id": "910ecb35-ff58-46e9-9b60-07b58ca04d3b",
   "metadata": {},
   "outputs": [],
   "source": [
    "# Look at only Borough/County/Parish data\n",
    "df_2022 = df_2022.dropna(subset='Division')"
   ]
  },
  {
   "cell_type": "code",
   "execution_count": null,
   "id": "9e3f34cb-012a-4a00-b566-f57c0998b49d",
   "metadata": {},
   "outputs": [],
   "source": [
    "df_2022.head()"
   ]
  },
  {
   "cell_type": "markdown",
   "id": "253de93f-71cc-461c-8560-86529b77fd20",
   "metadata": {},
   "source": [
    "Let us make sure that there are differences"
   ]
  },
  {
   "cell_type": "code",
   "execution_count": null,
   "id": "aef10cfe-0912-48b7-86bd-809dc02a423c",
   "metadata": {},
   "outputs": [],
   "source": [
    "tdf1 = df_2020.set_index('FIPS')['Life Expectancy']\n",
    "tdf2 = df_2022.set_index('FIPS')['Life Expectancy']\n",
    "(tdf2 - tdf1).head()"
   ]
  },
  {
   "cell_type": "code",
   "execution_count": null,
   "id": "f8ee1686-e7c2-4710-aa4d-8998870eeaeb",
   "metadata": {},
   "outputs": [],
   "source": [
    "df_2022.to_csv(\"../data/rwjf/division_2022.csv\", index=False)"
   ]
  },
  {
   "cell_type": "markdown",
   "id": "c32f7845-db3e-42df-8d8e-e9df40e137ed",
   "metadata": {},
   "source": [
    "Then the state-level data"
   ]
  },
  {
   "cell_type": "code",
   "execution_count": null,
   "id": "86c3ecf8-d930-48bb-bbda-c9d093cbb1b6",
   "metadata": {},
   "outputs": [],
   "source": [
    "df_2022_states = pd.concat(subsets)\n",
    "df_2022_states = df_2022_states[pd.isna(df_2022_states['Division'])]\n",
    "df_2022_states.head()"
   ]
  },
  {
   "cell_type": "code",
   "execution_count": null,
   "id": "3d87631a-3925-4376-97ea-90ff539b6845",
   "metadata": {},
   "outputs": [],
   "source": [
    "tdf1 = df_2020_states.set_index('FIPS')['Life Expectancy']\n",
    "tdf2 = df_2022_states.set_index('FIPS')['Life Expectancy']\n",
    "(tdf2 - tdf1).head()"
   ]
  },
  {
   "cell_type": "code",
   "execution_count": null,
   "id": "471ee499-621b-4f3a-9368-dc5cee1fea2c",
   "metadata": {},
   "outputs": [],
   "source": [
    "df_2022_states.to_csv(\"../data/rwjf/state_2022.csv\", index=False)"
   ]
  }
 ],
 "metadata": {
  "kernelspec": {
   "display_name": "Python 3 (ipykernel)",
   "language": "python",
   "name": "python3"
  },
  "language_info": {
   "codemirror_mode": {
    "name": "ipython",
    "version": 3
   },
   "file_extension": ".py",
   "mimetype": "text/x-python",
   "name": "python",
   "nbconvert_exporter": "python",
   "pygments_lexer": "ipython3",
   "version": "3.10.5"
  }
 },
 "nbformat": 4,
 "nbformat_minor": 5
}

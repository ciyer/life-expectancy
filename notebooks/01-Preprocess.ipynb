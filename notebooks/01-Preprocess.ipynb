{
 "cells": [
  {
   "cell_type": "markdown",
   "id": "bb73e956-6082-45dc-b0ce-37a9a22aaa1b",
   "metadata": {},
   "source": [
    "Extract the subset of the data we want to look at."
   ]
  },
  {
   "cell_type": "code",
   "execution_count": null,
   "id": "f137166d-0b73-462a-8e50-ef4473a677ae",
   "metadata": {},
   "outputs": [],
   "source": [
    "import numpy as np\n",
    "import matplotlib as mpl\n",
    "import matplotlib.pyplot as plt\n",
    "import pandas as pd\n",
    "import seaborn as sns"
   ]
  },
  {
   "cell_type": "markdown",
   "id": "76b54416-8d29-4b37-91ad-8da38d594391",
   "metadata": {},
   "source": [
    "# Identify columns\n",
    "\n",
    "Use the Alaska data to identify the colums we want."
   ]
  },
  {
   "cell_type": "code",
   "execution_count": null,
   "id": "6a7f10ee-c974-4e3e-98e3-3161926a6e14",
   "metadata": {},
   "outputs": [],
   "source": [
    "def read_state_df(state):\n",
    "    df = pd.read_excel(f\"../data/states/{state}.xlsx\", \"Additional Measure Data\", header=1)\n",
    "    # standardize the column name of Borough/County/Parish\n",
    "    df = df.rename(columns={'Borough': 'Division', 'County': 'Division', 'Parish': 'Division'})\n",
    "    return df"
   ]
  },
  {
   "cell_type": "code",
   "execution_count": null,
   "id": "c666574d-3389-4242-baec-8128f0d56162",
   "metadata": {},
   "outputs": [],
   "source": [
    "df = read_state_df(\"Alaska\")"
   ]
  },
  {
   "cell_type": "code",
   "execution_count": null,
   "id": "e5c92346-9caa-42a3-b9d3-5ed213fb82b7",
   "metadata": {},
   "outputs": [],
   "source": [
    "df.head()"
   ]
  },
  {
   "cell_type": "code",
   "execution_count": null,
   "id": "0ee1b321-d54c-4223-8299-dbac248d207a",
   "metadata": {},
   "outputs": [],
   "source": [
    "df.columns"
   ]
  },
  {
   "cell_type": "code",
   "execution_count": null,
   "id": "c5dffd88-cfde-4e83-8049-2ec94cc09b84",
   "metadata": {},
   "outputs": [],
   "source": [
    "le_cols = [c for c in df.columns if c.startswith('Life Expectancy (') and c.endswith(')')]"
   ]
  },
  {
   "cell_type": "code",
   "execution_count": null,
   "id": "52d9f2ce-1422-41fe-a844-f86d0ccf59ff",
   "metadata": {},
   "outputs": [],
   "source": [
    "pop_cols = ['Population', \n",
    "            '# Black', '% Black', \n",
    "            '# American Indian & Alaska Native', '% American Indian & Alaska Native', \n",
    "            '# Asian', '% Asian',\n",
    "            '# Native Hawaiian/Other Pacific Islander',\n",
    "            '% Native Hawaiian/Other Pacific Islander', \n",
    "            '# Hispanic', '% Hispanic',\n",
    "            '# Non-Hispanic White', '% Non-Hispanic White',\n",
    "            '% Female']"
   ]
  },
  {
   "cell_type": "code",
   "execution_count": null,
   "id": "6e121dc4-134f-427b-881e-7130dac1fa21",
   "metadata": {},
   "outputs": [],
   "source": [
    "income_cols = [c for c in df.columns if \"Income\" in c]"
   ]
  },
  {
   "cell_type": "code",
   "execution_count": null,
   "id": "6cdac776-1a3a-4a45-a95e-3e739d07de12",
   "metadata": {},
   "outputs": [],
   "source": [
    "cols = ['FIPS', 'State', 'Division', 'Life Expectancy']\n",
    "cols.extend(le_cols)\n",
    "cols.extend(pop_cols)\n",
    "cols.extend(income_cols)"
   ]
  },
  {
   "cell_type": "markdown",
   "id": "606d5fcf-3de9-46b0-8021-57c207e1e7e5",
   "metadata": {},
   "source": [
    "Here are the columns"
   ]
  },
  {
   "cell_type": "code",
   "execution_count": null,
   "id": "318f0c12-dacd-49eb-ac45-3fd97cf4e875",
   "metadata": {},
   "outputs": [],
   "source": [
    "cols"
   ]
  },
  {
   "cell_type": "markdown",
   "id": "a003db6d-1c4b-4892-ab23-ef391eb630d2",
   "metadata": {},
   "source": [
    "# Subset data\n",
    "\n",
    "Create a table with these columns for all states and territories."
   ]
  },
  {
   "cell_type": "code",
   "execution_count": null,
   "id": "425fe1a5-e8c5-464f-af73-567ca89a19f4",
   "metadata": {},
   "outputs": [],
   "source": [
    "states = [\n",
    "'Alabama',\n",
    "'Alaska',\n",
    "'Arizona',\n",
    "'Arkansas',\n",
    "'California',\n",
    "'Colorado',\n",
    "'Connecticut',\n",
    "'Delaware',\n",
    "'District_of_Columbia',\n",
    "'Florida',\n",
    "'Georgia',\n",
    "'Hawaii',\n",
    "'Idaho',\n",
    "'Illinois',\n",
    "'Indiana',\n",
    "'Iowa',\n",
    "'Kansas',\n",
    "'Kentucky',\n",
    "'Louisiana',\n",
    "'Maine',\n",
    "'Maryland',\n",
    "'Massachusetts',\n",
    "'Michigan',\n",
    "'Minnesota',\n",
    "'Mississippi',\n",
    "'Missouri',\n",
    "'Montana',\n",
    "'Nebraska',\n",
    "'Nevada',\n",
    "'New_Hampshire',\n",
    "'New_Jersey',\n",
    "'New_Mexico',\n",
    "'New_York',\n",
    "'North_Carolina',\n",
    "'North_Dakota',\n",
    "'Ohio',\n",
    "'Oklahoma',\n",
    "'Oregon',\n",
    "'Pennsylvania',\n",
    "'Rhode_Island',\n",
    "'South_Carolina',\n",
    "'South_Dakota',\n",
    "'Tennessee',\n",
    "'Texas',\n",
    "'Utah',\n",
    "'Vermont',\n",
    "'Virginia',\n",
    "'Washington',\n",
    "'West_Virginia',\n",
    "'Wisconsin',\n",
    "'Wyoming'\n",
    "]"
   ]
  },
  {
   "cell_type": "code",
   "execution_count": null,
   "id": "57b946b3-95e9-43af-a3c7-ca5a1ef217cd",
   "metadata": {},
   "outputs": [],
   "source": [
    "subsets = []\n",
    "for state in states:\n",
    "    print(f\"Processing {state}\")\n",
    "    df = read_state_df(state)\n",
    "    subsets.append(df[cols])"
   ]
  },
  {
   "cell_type": "code",
   "execution_count": null,
   "id": "69a13e8f-229e-4bb0-8e86-bfd583301643",
   "metadata": {},
   "outputs": [],
   "source": [
    "len(subsets)"
   ]
  },
  {
   "cell_type": "markdown",
   "id": "dc88ab74-53af-4a31-9dfe-c3e3361f26b5",
   "metadata": {},
   "source": [
    "# Export data\n",
    "\n",
    "First the division-level data"
   ]
  },
  {
   "cell_type": "code",
   "execution_count": null,
   "id": "22e997a5-6a0f-449e-bbb8-12061a41cab6",
   "metadata": {},
   "outputs": [],
   "source": [
    "df = pd.concat(subsets)"
   ]
  },
  {
   "cell_type": "code",
   "execution_count": null,
   "id": "e3ea84ba-38d7-4601-8c42-4f6d67f32470",
   "metadata": {},
   "outputs": [],
   "source": [
    "# Look at only Borough/County/Parish data\n",
    "df = df.dropna(subset='Division')"
   ]
  },
  {
   "cell_type": "code",
   "execution_count": null,
   "id": "7d76615d-5baa-4c18-86b1-6e1fb0b6bd1c",
   "metadata": {},
   "outputs": [],
   "source": [
    "df.head()"
   ]
  },
  {
   "cell_type": "code",
   "execution_count": null,
   "id": "37e83bf6-658e-4c48-b09e-371c33d9c9ef",
   "metadata": {},
   "outputs": [],
   "source": [
    "df.to_csv(\"../data/rwjf/division.csv\", index=False)"
   ]
  },
  {
   "cell_type": "markdown",
   "id": "453b0c32-8a67-4de2-8bbc-e3c2773621cd",
   "metadata": {},
   "source": [
    "Then the state-level data"
   ]
  },
  {
   "cell_type": "code",
   "execution_count": null,
   "id": "7691ec36-ce84-44e8-95a4-c431caf8715a",
   "metadata": {},
   "outputs": [],
   "source": [
    "df = pd.concat(subsets)\n",
    "df = df[pd.isna(df['Division'])]\n",
    "df.head()"
   ]
  },
  {
   "cell_type": "code",
   "execution_count": null,
   "id": "1d83d37b-bbf1-4b98-9076-6fdda7aa9a86",
   "metadata": {},
   "outputs": [],
   "source": [
    "df.to_csv(\"../data/rwjf/state.csv\", index=False)"
   ]
  }
 ],
 "metadata": {
  "kernelspec": {
   "display_name": "Python 3 (ipykernel)",
   "language": "python",
   "name": "python3"
  },
  "language_info": {
   "codemirror_mode": {
    "name": "ipython",
    "version": 3
   },
   "file_extension": ".py",
   "mimetype": "text/x-python",
   "name": "python",
   "nbconvert_exporter": "python",
   "pygments_lexer": "ipython3",
   "version": "3.10.5"
  }
 },
 "nbformat": 4,
 "nbformat_minor": 5
}

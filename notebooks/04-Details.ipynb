{
 "cells": [
  {
   "cell_type": "markdown",
   "id": "965950cc-ba21-4dff-8227-589a9014928b",
   "metadata": {},
   "source": [
    "Let us data a look at a few details"
   ]
  },
  {
   "cell_type": "code",
   "execution_count": null,
   "id": "11755463-d64f-4460-bf3f-5a95d55df266",
   "metadata": {},
   "outputs": [],
   "source": [
    "import numpy as np\n",
    "import matplotlib as mpl\n",
    "import matplotlib.pyplot as plt\n",
    "import pandas as pd\n",
    "import seaborn as sns\n",
    "sns.set()"
   ]
  },
  {
   "cell_type": "markdown",
   "id": "c69d8f6e-6318-4c94-91a6-3520e46ffeb2",
   "metadata": {},
   "source": [
    "# Data details"
   ]
  },
  {
   "cell_type": "markdown",
   "id": "26cc668d-1b48-416f-847d-1ba0cf961740",
   "metadata": {},
   "source": [
    "How do our state sumaries compare to the ones from the Robert Wood Johnson Foundation / U of Wisc and OECD?"
   ]
  },
  {
   "cell_type": "code",
   "execution_count": null,
   "id": "857f2050-cadc-487a-8b86-43620e32aa55",
   "metadata": {},
   "outputs": [],
   "source": [
    "state_df = pd.read_csv(\"../data/viz/state_2020.csv\")\n",
    "state_df.head()"
   ]
  },
  {
   "cell_type": "code",
   "execution_count": null,
   "id": "5485ed6b-0a58-4818-9da5-cf82bd578f6e",
   "metadata": {},
   "outputs": [],
   "source": [
    "rwjf_state_df = pd.read_csv(\"../data/rwjf/state_2020.csv\")\n",
    "rwjf_state_df = rwjf_state_df[['FIPS', 'State', 'Life Expectancy', 'Population']]"
   ]
  },
  {
   "cell_type": "code",
   "execution_count": null,
   "id": "3b277486-71ad-4a43-badd-b378bc120e43",
   "metadata": {},
   "outputs": [],
   "source": [
    "rwjf_state_df.head()"
   ]
  },
  {
   "cell_type": "code",
   "execution_count": null,
   "id": "061a9365-8cd0-4f3e-9e3d-3f19239b4d1b",
   "metadata": {},
   "outputs": [],
   "source": [
    "oecd_df = pd.read_csv(\"../data/oecd/DP_LIVE_13082022233500657.csv\")\n",
    "oecd_df = oecd_df[['LOCATION', 'Value']]\n",
    "oecd_df = oecd_df.set_index('LOCATION')"
   ]
  },
  {
   "cell_type": "code",
   "execution_count": null,
   "id": "b63e54a0-9ac8-44a9-933a-1a2986e2c471",
   "metadata": {},
   "outputs": [],
   "source": [
    "oecd_df.head()"
   ]
  },
  {
   "cell_type": "markdown",
   "id": "1e96392f-1004-4813-b551-5d09c8c1fab1",
   "metadata": {},
   "source": [
    "The **mean** of the life expectancy values from the RWJF data is the same as what is shown in _Our World in Data_, which comes from the OECD data."
   ]
  },
  {
   "cell_type": "code",
   "execution_count": null,
   "id": "bf32436e-95da-4a74-9f12-06119de47380",
   "metadata": {
    "tags": []
   },
   "outputs": [],
   "source": [
    "rwjf_mv = rwjf_state_df['Life Expectancy'].mean()\n",
    "oecd_mv = oecd_df.loc['USA', 'Value']\n",
    "print(f\"Life Expectancy as mean of states {rwjf_mv:.1f} vs. OECD {oecd_mv:.1f}\")"
   ]
  },
  {
   "cell_type": "markdown",
   "id": "94989ee1-951a-4c8b-91dc-2eda299b4f58",
   "metadata": {},
   "source": [
    "If we compute the population-weighted mean, then our result is about 0.5 years little heigher."
   ]
  },
  {
   "cell_type": "code",
   "execution_count": null,
   "id": "1acc8aa5-9077-4555-b70c-8f090b5ea75d",
   "metadata": {},
   "outputs": [],
   "source": [
    "pop_total = rwjf_state_df['Population'].sum()\n",
    "pop_frac =  rwjf_state_df['Population'] / pop_total\n",
    "result = {'population': pop_total,\n",
    "          'life expectancy': (rwjf_state_df['Life Expectancy'] * pop_frac).sum()}\n",
    "rwjf_ev = (rwjf_state_df['Life Expectancy'] * pop_frac).sum()\n",
    "print(f\"Life Expectancy as weighted mean of states {rwjf_ev:.1f}\")"
   ]
  },
  {
   "cell_type": "markdown",
   "id": "122ba768-79a1-4da3-94ee-1f03cecc875e",
   "metadata": {},
   "source": [
    "The state summaries we get by summarizing the higher-resolution data are a bit different, and about 1y higher on average."
   ]
  },
  {
   "cell_type": "code",
   "execution_count": null,
   "id": "9c60522c-9164-4b8d-a8b0-7602e193c060",
   "metadata": {},
   "outputs": [],
   "source": [
    "results = []\n",
    "for name, gdf in state_df.reset_index().groupby([\"State\"]):\n",
    "    tdf = gdf.dropna()\n",
    "    pop_total = tdf['population'].sum()\n",
    "    pop_frac =  tdf['population'] / pop_total\n",
    "    result = {'State': name,\n",
    "              'population': pop_total,\n",
    "              'life expectancy': (tdf['life expectancy'] * pop_frac).sum()}\n",
    "    results.append(result)\n",
    "state_summary_df = pd.DataFrame(results)"
   ]
  },
  {
   "cell_type": "code",
   "execution_count": null,
   "id": "375b54e1-706d-4d4d-9ea4-08ba804a4acd",
   "metadata": {},
   "outputs": [],
   "source": [
    "state_summary_df.head()"
   ]
  },
  {
   "cell_type": "code",
   "execution_count": null,
   "id": "9e5fdeee-d62a-470e-b43a-61fb6b00315f",
   "metadata": {},
   "outputs": [],
   "source": [
    "(state_summary_df['life expectancy'] - rwjf_state_df['Life Expectancy']).describe()"
   ]
  },
  {
   "cell_type": "code",
   "execution_count": null,
   "id": "74767242-d658-48a2-8a19-f2943eb22028",
   "metadata": {},
   "outputs": [],
   "source": [
    "pop_total = state_summary_df['population'].sum()\n",
    "pop_frac =  state_summary_df['population'] / pop_total\n",
    "result = {'population': pop_total,\n",
    "          'life expectancy': (state_summary_df['life expectancy'] * pop_frac).sum()}\n",
    "print(\"Life Expectancy\", (state_summary_df['life expectancy'] * pop_frac).sum())"
   ]
  }
 ],
 "metadata": {
  "kernelspec": {
   "display_name": "Python 3 (ipykernel)",
   "language": "python",
   "name": "python3"
  },
  "language_info": {
   "codemirror_mode": {
    "name": "ipython",
    "version": 3
   },
   "file_extension": ".py",
   "mimetype": "text/x-python",
   "name": "python",
   "nbconvert_exporter": "python",
   "pygments_lexer": "ipython3",
   "version": "3.10.5"
  },
  "toc-autonumbering": false,
  "toc-showcode": true,
  "toc-showmarkdowntxt": true,
  "toc-showtags": false
 },
 "nbformat": 4,
 "nbformat_minor": 5
}

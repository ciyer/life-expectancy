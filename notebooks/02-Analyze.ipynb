{
 "cells": [
  {
   "cell_type": "markdown",
   "id": "bb73e956-6082-45dc-b0ce-37a9a22aaa1b",
   "metadata": {},
   "source": [
    "Extract the subset of the data we want to look at."
   ]
  },
  {
   "cell_type": "code",
   "execution_count": null,
   "id": "f137166d-0b73-462a-8e50-ef4473a677ae",
   "metadata": {},
   "outputs": [],
   "source": [
    "import numpy as np\n",
    "import matplotlib as mpl\n",
    "import matplotlib.pyplot as plt\n",
    "import pandas as pd\n",
    "import seaborn as sns"
   ]
  },
  {
   "cell_type": "code",
   "execution_count": null,
   "id": "eabf3e3e-09a9-4a3b-90c4-1a130b7e1b26",
   "metadata": {},
   "outputs": [],
   "source": [
    "sns.set()"
   ]
  },
  {
   "cell_type": "markdown",
   "id": "76b54416-8d29-4b37-91ad-8da38d594391",
   "metadata": {},
   "source": [
    "# Read in the data"
   ]
  },
  {
   "cell_type": "code",
   "execution_count": null,
   "id": "c666574d-3389-4242-baec-8128f0d56162",
   "metadata": {},
   "outputs": [],
   "source": [
    "raw_df = pd.read_csv(\"../data/division.csv\")"
   ]
  },
  {
   "cell_type": "code",
   "execution_count": null,
   "id": "e5c92346-9caa-42a3-b9d3-5ed213fb82b7",
   "metadata": {},
   "outputs": [],
   "source": [
    "raw_df.head()"
   ]
  },
  {
   "cell_type": "code",
   "execution_count": null,
   "id": "6b79c596-3150-4cc8-bef6-4ef062955193",
   "metadata": {},
   "outputs": [],
   "source": [
    "raw_df.describe()"
   ]
  },
  {
   "cell_type": "markdown",
   "id": "82da5ad4-37fb-4bcc-b99b-c749d628d28a",
   "metadata": {},
   "source": [
    "# Reformat the data\n",
    "\n",
    "Let us change the structure of the data to make it easier to handle"
   ]
  },
  {
   "cell_type": "code",
   "execution_count": null,
   "id": "c98fcd77-b21f-4865-9dd8-62e7057c6615",
   "metadata": {
    "tags": []
   },
   "outputs": [],
   "source": [
    "place_cols = ['FIPS', 'State', 'Division']\n",
    "le_cols = [c for c in raw_df.columns if c.startswith('Life Expectancy (') and c.endswith(')')]\n",
    "pop_cols = ['Population', \n",
    "            '# Black', '% Black', \n",
    "            '# American Indian & Alaska Native', '% American Indian & Alaska Native', \n",
    "            '# Asian', '% Asian',\n",
    "            '# Native Hawaiian/Other Pacific Islander',\n",
    "            '% Native Hawaiian/Other Pacific Islander', \n",
    "            '# Hispanic', '% Hispanic',\n",
    "            '# Non-Hispanic White', '% Non-Hispanic White',\n",
    "            '% Female']"
   ]
  },
  {
   "cell_type": "code",
   "execution_count": null,
   "id": "eae05ffa-bae5-48d2-8f95-92a9a06c5251",
   "metadata": {},
   "outputs": [],
   "source": [
    "place_df = raw_df[place_cols]"
   ]
  },
  {
   "cell_type": "code",
   "execution_count": null,
   "id": "8a8481a7-71b2-41d2-bcb5-fc331f04ce1c",
   "metadata": {},
   "outputs": [],
   "source": [
    "le_df = raw_df[le_cols]\n",
    "le_df.columns = ['AIAN', 'Asian', 'Black', 'Hispanic', 'White']\n",
    "le_df = place_df.join(le_df)\n",
    "le_df = le_df.set_index(place_cols)\n",
    "le_df.head()"
   ]
  },
  {
   "cell_type": "code",
   "execution_count": null,
   "id": "fb6afecb-6484-4ff0-a8a1-121af205eec9",
   "metadata": {},
   "outputs": [],
   "source": [
    "pop_df = raw_df[pop_cols]\n",
    "pop_df = pop_df.drop(columns=[\"# Native Hawaiian/Other Pacific Islander\", \"% Native Hawaiian/Other Pacific Islander\", \"% Female\"])\n",
    "pop_df.columns = ['Population', \n",
    "                  '# Black', '% Black', \n",
    "                  '# AIAN', '% AIAN',\n",
    "                  '# Asian', '% Asian',\n",
    "                  '# Hispanic', '% Hispanic',\n",
    "                  '# White', '% White']\n",
    "pop_df = place_df.join(pop_df)\n",
    "pop_df = pop_df.set_index(place_cols)\n",
    "pop_df.head()"
   ]
  },
  {
   "cell_type": "code",
   "execution_count": null,
   "id": "84b980fb-a0af-43a6-9a7e-131b2d394720",
   "metadata": {},
   "outputs": [],
   "source": [
    "def to_group_df(group):\n",
    "    df = pop_df[[f\"# {group}\", f\"% {group}\"]].join(le_df[group])\n",
    "    df.columns = ['population', 'percentage', 'life expectancy']\n",
    "    df['group'] = group\n",
    "    return df"
   ]
  },
  {
   "cell_type": "code",
   "execution_count": null,
   "id": "d9a21dcd-1a48-482b-803f-15abd1dfe578",
   "metadata": {},
   "outputs": [],
   "source": [
    "aian_df = to_group_df('AIAN')\n",
    "aian_df.head()"
   ]
  },
  {
   "cell_type": "code",
   "execution_count": null,
   "id": "cb315478-cdf3-48bf-9aef-dd364dc66911",
   "metadata": {},
   "outputs": [],
   "source": [
    "groups = ['AIAN', 'Asian', 'Black', 'Hispanic', 'White']\n",
    "df = pd.concat([to_group_df(g) for g in groups])\n",
    "df = df.sort_index()\n",
    "df.head()"
   ]
  },
  {
   "cell_type": "markdown",
   "id": "6bcacf60-8e39-41a5-9c8f-965ca6112369",
   "metadata": {},
   "source": [
    "# Summarize data by state\n",
    "\n",
    "Looking at county-level data is a bit overwhelming here, so let us summarize to the state level."
   ]
  },
  {
   "cell_type": "code",
   "execution_count": null,
   "id": "f8b22aaf-1844-4e5b-bae4-e1a956a7d28e",
   "metadata": {},
   "outputs": [],
   "source": [
    "results = []\n",
    "for name, gdf in df.reset_index().groupby([\"State\", \"group\"]):\n",
    "    tdf = gdf.dropna()\n",
    "    pop_total = tdf['population'].sum()\n",
    "    pop_frac =  tdf['population'] / pop_total\n",
    "    result = {'State': name[0], 'group': name[1], \n",
    "              'population': pop_total,\n",
    "              'life expectancy': (tdf['life expectancy'] * pop_frac).sum()}\n",
    "    results.append(result)\n",
    "state_df = pd.DataFrame(results)"
   ]
  },
  {
   "cell_type": "code",
   "execution_count": null,
   "id": "f4195bd5-80ff-465a-b234-d63f9ab15c02",
   "metadata": {},
   "outputs": [],
   "source": [
    "state_df.head()"
   ]
  },
  {
   "cell_type": "markdown",
   "id": "a9253b5d-b656-41f5-b3ad-48d9064562cd",
   "metadata": {},
   "source": [
    "There is something strange happening with the model for the AIAN. "
   ]
  },
  {
   "cell_type": "code",
   "execution_count": null,
   "id": "c224f95d-5432-4950-a06a-26de35014aeb",
   "metadata": {},
   "outputs": [],
   "source": [
    "tdf = state_df[state_df['life expectancy'] > 0]\n",
    "sns.boxplot(x='group', y='life expectancy', data=tdf)"
   ]
  },
  {
   "cell_type": "markdown",
   "id": "5c565b4c-37ee-4c44-b2eb-98d57441e76b",
   "metadata": {},
   "source": [
    "So let is exclude that group for our the moment."
   ]
  },
  {
   "cell_type": "code",
   "execution_count": null,
   "id": "599f39fc-e6bb-46a7-b299-83d3b4595967",
   "metadata": {},
   "outputs": [],
   "source": [
    "fig, ax = plt.subplots()\n",
    "tdf = state_df[state_df['group'] != 'AIAN']\n",
    "tdf = tdf[tdf['life expectancy'] > 0]\n",
    "col_order = tdf.groupby('group').mean().sort_values('life expectancy')\n",
    "for i, group in enumerate(col_order.index):\n",
    "    ttdf = tdf[tdf['group'] == group]\n",
    "    ax.scatter(ttdf['group'], ttdf['life expectancy'], alpha=0.7)"
   ]
  },
  {
   "cell_type": "markdown",
   "id": "7b9512d8-c513-41c2-a053-65fdd6bc86dc",
   "metadata": {},
   "source": [
    "# Group summaries"
   ]
  },
  {
   "cell_type": "code",
   "execution_count": null,
   "id": "afc54ca8-473f-4d30-b3b8-d2897b808051",
   "metadata": {},
   "outputs": [],
   "source": [
    "results = []\n",
    "for name, gdf in state_df.reset_index().groupby(\"group\"):\n",
    "    tdf = gdf.dropna()\n",
    "    pop_total = tdf['population'].sum()\n",
    "    pop_frac =  tdf['population'] / pop_total\n",
    "    result = {'group': name, \n",
    "              'population': pop_total,\n",
    "              'life expectancy': (tdf['life expectancy'] * pop_frac).sum()}\n",
    "    results.append(result)\n",
    "nat_group_df = pd.DataFrame(results)"
   ]
  },
  {
   "cell_type": "code",
   "execution_count": null,
   "id": "d4a7d251-219d-4f0f-b333-c3f34687a41d",
   "metadata": {},
   "outputs": [],
   "source": [
    "nat_group_df"
   ]
  },
  {
   "cell_type": "code",
   "execution_count": null,
   "id": "eaee8750-230e-46e0-b401-15ccf6554394",
   "metadata": {},
   "outputs": [],
   "source": [
    "pop_total = nat_group_df['population'].sum()\n",
    "pop_frac =  nat_group_df['population'] / pop_total\n",
    "(nat_group_df['life expectancy'] * pop_frac).sum()\n"
   ]
  },
  {
   "cell_type": "code",
   "execution_count": null,
   "id": "a9671e5f-56cb-40a6-ac78-48a9b6a89825",
   "metadata": {},
   "outputs": [],
   "source": [
    "tdf.set_index(['State', 'group']).unstack().describe()"
   ]
  },
  {
   "cell_type": "code",
   "execution_count": null,
   "id": "75201a76-7f70-4829-94ec-d277c3088853",
   "metadata": {},
   "outputs": [],
   "source": [
    "state_df[state_df['group'] == 'Asian'].sort_values(\"life expectancy\")"
   ]
  },
  {
   "cell_type": "code",
   "execution_count": null,
   "id": "9761b59e-4980-4c4a-bb40-1954e701059b",
   "metadata": {},
   "outputs": [],
   "source": [
    "a_tdf = state_df[state_df['group'] == 'Asian']\n",
    "len(a_tdf[a_tdf['life expectancy'] > 84.6])"
   ]
  },
  {
   "cell_type": "code",
   "execution_count": null,
   "id": "0d1fc522-867a-4a7e-84e9-f5f240a97484",
   "metadata": {},
   "outputs": [],
   "source": [
    "h_tdf = state_df[state_df['group'] == 'Hispanic']\n",
    "len(h_tdf[h_tdf['life expectancy'] > 84.6])"
   ]
  },
  {
   "cell_type": "code",
   "execution_count": null,
   "id": "823db353-8000-4d21-8f5a-aeec72578e0d",
   "metadata": {},
   "outputs": [],
   "source": [
    "h_tdf.sort_values('life expectancy')"
   ]
  },
  {
   "cell_type": "markdown",
   "id": "a89fdb8c-0cb8-4184-bb2a-fe5a2753dbb4",
   "metadata": {},
   "source": [
    "# Further questions"
   ]
  },
  {
   "cell_type": "markdown",
   "id": "46b315b4-73d8-4a0d-97e1-06bbdd95cc5b",
   "metadata": {},
   "source": [
    "Compare our state sumaries to the ones from the Robert Wood Johnson Foundation / U of Wisc."
   ]
  },
  {
   "cell_type": "code",
   "execution_count": null,
   "id": "f46be7bf-d134-422f-9686-963cc065130c",
   "metadata": {},
   "outputs": [],
   "source": [
    "rwjf_state_df = pd.read_csv(\"../data/state.csv\")\n",
    "rwjf_state_df = rwjf_state_df[['FIPS', 'State', 'Life Expectancy', 'Population']]"
   ]
  },
  {
   "cell_type": "code",
   "execution_count": null,
   "id": "de69be0d-b728-4fa2-95e2-45ccf834d91d",
   "metadata": {},
   "outputs": [],
   "source": [
    "rwjf_state_df.head()"
   ]
  },
  {
   "cell_type": "markdown",
   "id": "b473441f-448e-41c1-9efd-1a833d0720e9",
   "metadata": {},
   "source": [
    "The **mean** of the life expectancy values from the original data is pretty close to what is shown in _Our World in Data_."
   ]
  },
  {
   "cell_type": "code",
   "execution_count": null,
   "id": "60e79900-906a-4885-b36f-a861f39d4759",
   "metadata": {
    "tags": []
   },
   "outputs": [],
   "source": [
    "print(\"Life Expectancy as mean of states\", rwjf_state_df['Life Expectancy'].mean())"
   ]
  },
  {
   "cell_type": "markdown",
   "id": "01e4816d-8bd8-46d1-aa91-cd4fec73fd9d",
   "metadata": {},
   "source": [
    "If we compute the population-weighted mean, then our result is about 0.5 years little heigher."
   ]
  },
  {
   "cell_type": "code",
   "execution_count": null,
   "id": "f95a60f7-7f93-4da9-b4ac-3cbdea4888ee",
   "metadata": {},
   "outputs": [],
   "source": [
    "pop_total = rwjf_state_df['Population'].sum()\n",
    "pop_frac =  rwjf_state_df['Population'] / pop_total\n",
    "result = {'population': pop_total,\n",
    "          'life expectancy': (rwjf_state_df['Life Expectancy'] * pop_frac).sum()}\n",
    "print(\"Life Expectancy as weighted mean of states\", (rwjf_state_df['Life Expectancy'] * pop_frac).sum())"
   ]
  },
  {
   "cell_type": "markdown",
   "id": "6226f42a-893b-4c79-b41a-98babba0206a",
   "metadata": {},
   "source": [
    "The state summaries we get by summarizing the higher-resolution data are a bit different, and about 1y higher on average."
   ]
  },
  {
   "cell_type": "code",
   "execution_count": null,
   "id": "5d57ce04-bbdc-4ee8-a5d1-3efc86056573",
   "metadata": {},
   "outputs": [],
   "source": [
    "results = []\n",
    "for name, gdf in df.reset_index().groupby([\"State\"]):\n",
    "    tdf = gdf.dropna()\n",
    "    pop_total = tdf['population'].sum()\n",
    "    pop_frac =  tdf['population'] / pop_total\n",
    "    result = {'State': name,\n",
    "              'population': pop_total,\n",
    "              'life expectancy': (tdf['life expectancy'] * pop_frac).sum()}\n",
    "    results.append(result)\n",
    "state_summary_df = pd.DataFrame(results)"
   ]
  },
  {
   "cell_type": "code",
   "execution_count": null,
   "id": "99548165-923f-4c1d-abe8-0f144e2482b7",
   "metadata": {},
   "outputs": [],
   "source": [
    "state_summary_df.head()"
   ]
  },
  {
   "cell_type": "code",
   "execution_count": null,
   "id": "a02d7616-1fb8-4011-8fc7-6fdf16ee9682",
   "metadata": {},
   "outputs": [],
   "source": [
    "(state_summary_df['life expectancy'] - rwjf_state_df['Life Expectancy']).describe()"
   ]
  },
  {
   "cell_type": "code",
   "execution_count": null,
   "id": "25486c80-83a1-43a6-bdda-bd97e13dcdb3",
   "metadata": {},
   "outputs": [],
   "source": [
    "pop_total = state_summary_df['population'].sum()\n",
    "pop_frac =  state_summary_df['population'] / pop_total\n",
    "result = {'population': pop_total,\n",
    "          'life expectancy': (state_summary_df['life expectancy'] * pop_frac).sum()}\n",
    "print(\"Life Expectancy\", (state_summary_df['life expectancy'] * pop_frac).sum())"
   ]
  }
 ],
 "metadata": {
  "kernelspec": {
   "display_name": "Python 3 (ipykernel)",
   "language": "python",
   "name": "python3"
  },
  "language_info": {
   "codemirror_mode": {
    "name": "ipython",
    "version": 3
   },
   "file_extension": ".py",
   "mimetype": "text/x-python",
   "name": "python",
   "nbconvert_exporter": "python",
   "pygments_lexer": "ipython3",
   "version": "3.10.5"
  }
 },
 "nbformat": 4,
 "nbformat_minor": 5
}

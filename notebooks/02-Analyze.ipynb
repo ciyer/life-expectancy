{
 "cells": [
  {
   "cell_type": "markdown",
   "id": "bb73e956-6082-45dc-b0ce-37a9a22aaa1b",
   "metadata": {},
   "source": [
    "Extract the subset of the data we want to look at."
   ]
  },
  {
   "cell_type": "code",
   "execution_count": null,
   "id": "f137166d-0b73-462a-8e50-ef4473a677ae",
   "metadata": {},
   "outputs": [],
   "source": [
    "import numpy as np\n",
    "import matplotlib as mpl\n",
    "import matplotlib.pyplot as plt\n",
    "import pandas as pd\n",
    "import seaborn as sns\n",
    "\n",
    "import statsmodels.formula.api as smf\n",
    "import statsmodels.api as sm"
   ]
  },
  {
   "cell_type": "code",
   "execution_count": null,
   "id": "eabf3e3e-09a9-4a3b-90c4-1a130b7e1b26",
   "metadata": {},
   "outputs": [],
   "source": [
    "sns.set()"
   ]
  },
  {
   "cell_type": "markdown",
   "id": "76b54416-8d29-4b37-91ad-8da38d594391",
   "metadata": {},
   "source": [
    "# Read in the data"
   ]
  },
  {
   "cell_type": "code",
   "execution_count": null,
   "id": "c666574d-3389-4242-baec-8128f0d56162",
   "metadata": {},
   "outputs": [],
   "source": [
    "raw_df = pd.read_csv(\"../data/rwjf/division_2022.csv\")"
   ]
  },
  {
   "cell_type": "code",
   "execution_count": null,
   "id": "e5c92346-9caa-42a3-b9d3-5ed213fb82b7",
   "metadata": {},
   "outputs": [],
   "source": [
    "raw_df.head()"
   ]
  },
  {
   "cell_type": "code",
   "execution_count": null,
   "id": "6b79c596-3150-4cc8-bef6-4ef062955193",
   "metadata": {},
   "outputs": [],
   "source": [
    "raw_df.describe()"
   ]
  },
  {
   "cell_type": "markdown",
   "id": "82da5ad4-37fb-4bcc-b99b-c749d628d28a",
   "metadata": {},
   "source": [
    "# Reformat the data\n",
    "\n",
    "Let us change the structure of the data to make it easier to handle"
   ]
  },
  {
   "cell_type": "code",
   "execution_count": null,
   "id": "c98fcd77-b21f-4865-9dd8-62e7057c6615",
   "metadata": {
    "tags": []
   },
   "outputs": [],
   "source": [
    "place_cols = ['FIPS', 'State', 'Division']\n",
    "le_cols = [c for c in raw_df.columns if c.startswith('Life Expectancy (') and c.endswith(')')]\n",
    "income_cols = [c for c in raw_df.columns if c.startswith('Household Income (') and c.endswith(')')]\n",
    "pop_cols = ['Population', \n",
    "            '# Black', '% Black', \n",
    "            '# American Indian & Alaska Native', '% American Indian & Alaska Native', \n",
    "            '# Asian', '% Asian',\n",
    "            '# Native Hawaiian/Other Pacific Islander',\n",
    "            '% Native Hawaiian/Other Pacific Islander', \n",
    "            '# Hispanic', '% Hispanic',\n",
    "            '# Non-Hispanic White', '% Non-Hispanic White',\n",
    "            '% Female']"
   ]
  },
  {
   "cell_type": "code",
   "execution_count": null,
   "id": "eae05ffa-bae5-48d2-8f95-92a9a06c5251",
   "metadata": {},
   "outputs": [],
   "source": [
    "def raw_to_place_df(raw_df):\n",
    "    place_df = raw_df[place_cols]\n",
    "    return place_df\n",
    "\n",
    "\n",
    "raw_to_place_df(raw_df).head()"
   ]
  },
  {
   "cell_type": "code",
   "execution_count": null,
   "id": "8a8481a7-71b2-41d2-bcb5-fc331f04ce1c",
   "metadata": {},
   "outputs": [],
   "source": [
    "def raw_to_le_df(raw_df):\n",
    "    place_df = raw_to_place_df(raw_df)\n",
    "    le_df = raw_df[le_cols]\n",
    "    le_df.columns = ['AIAN', 'Asian', 'Black', 'Hispanic', 'White']\n",
    "    le_df = place_df.join(le_df)\n",
    "    le_df = le_df.set_index(place_cols)\n",
    "    return le_df\n",
    "\n",
    "raw_to_le_df(raw_df).head()"
   ]
  },
  {
   "cell_type": "code",
   "execution_count": null,
   "id": "fb6afecb-6484-4ff0-a8a1-121af205eec9",
   "metadata": {},
   "outputs": [],
   "source": [
    "def raw_to_pop_df(raw_df):\n",
    "    place_df = raw_to_place_df(raw_df)\n",
    "    pop_df = raw_df[pop_cols]\n",
    "    pop_df = pop_df.drop(columns=[\"# Native Hawaiian/Other Pacific Islander\", \"% Native Hawaiian/Other Pacific Islander\", \"% Female\"])\n",
    "    pop_df.columns = ['Population', \n",
    "                      '# Black', '% Black', \n",
    "                      '# AIAN', '% AIAN',\n",
    "                      '# Asian', '% Asian',\n",
    "                      '# Hispanic', '% Hispanic',\n",
    "                      '# White', '% White']\n",
    "    pop_df = place_df.join(pop_df)\n",
    "    pop_df = pop_df.set_index(place_cols)\n",
    "    return pop_df\n",
    "\n",
    "\n",
    "raw_to_pop_df(raw_df).head()"
   ]
  },
  {
   "cell_type": "code",
   "execution_count": null,
   "id": "9532a36a-8532-4a39-85a1-0f34028260d2",
   "metadata": {},
   "outputs": [],
   "source": [
    "def raw_to_income_df(raw_df):\n",
    "    place_df = raw_to_place_df(raw_df)\n",
    "    income_df = raw_df[income_cols]\n",
    "    income_df.columns = ['AIAN', 'Asian', 'Black', 'Hispanic', 'White']\n",
    "    income_df = place_df.join(income_df)\n",
    "    income_df = income_df.set_index(place_cols)\n",
    "    return income_df\n",
    "\n",
    "\n",
    "raw_to_income_df(raw_df).head()"
   ]
  },
  {
   "cell_type": "code",
   "execution_count": null,
   "id": "84b980fb-a0af-43a6-9a7e-131b2d394720",
   "metadata": {},
   "outputs": [],
   "source": [
    "def to_group_df(raw_df, group):\n",
    "    pop_df = raw_to_pop_df(raw_df)\n",
    "    le_df = raw_to_le_df(raw_df)\n",
    "    income_df = raw_to_income_df(raw_df)\n",
    "    df = pop_df[[f\"# {group}\", f\"% {group}\"]].join(le_df[group])\n",
    "    df = df.join(income_df[group], rsuffix='_income')\n",
    "    df.columns = ['population', 'percentage', 'life expectancy', 'income']\n",
    "    df['group'] = group\n",
    "    return df"
   ]
  },
  {
   "cell_type": "code",
   "execution_count": null,
   "id": "d9a21dcd-1a48-482b-803f-15abd1dfe578",
   "metadata": {},
   "outputs": [],
   "source": [
    "aian_df = to_group_df(raw_df, 'AIAN')\n",
    "aian_df.head()"
   ]
  },
  {
   "cell_type": "code",
   "execution_count": null,
   "id": "cb315478-cdf3-48bf-9aef-dd364dc66911",
   "metadata": {},
   "outputs": [],
   "source": [
    "groups = ['AIAN', 'Asian', 'Black', 'Hispanic', 'White']\n",
    "df = pd.concat([to_group_df(raw_df, g) for g in groups])\n",
    "df = df.sort_index()\n",
    "df.head()"
   ]
  },
  {
   "cell_type": "markdown",
   "id": "ef6e269b-731d-49d8-8816-3cd1907dc229",
   "metadata": {},
   "source": [
    "Let us save this division-level data"
   ]
  },
  {
   "cell_type": "code",
   "execution_count": null,
   "id": "ebfd6e90-7965-4094-9523-510619d8203b",
   "metadata": {},
   "outputs": [],
   "source": [
    "df.to_csv(\"../data/viz/division_2022.csv\", index=False)"
   ]
  },
  {
   "cell_type": "markdown",
   "id": "7642baa9-ead8-4663-ac9a-0b1addea11e0",
   "metadata": {},
   "source": [
    "And let us do the same for 2020"
   ]
  },
  {
   "cell_type": "code",
   "execution_count": null,
   "id": "f5752b85-115c-4ebd-aa8e-7886a5def18b",
   "metadata": {},
   "outputs": [],
   "source": [
    "raw_2020_df = pd.read_csv(\"../data/rwjf/division_2020.csv\")\n",
    "groups = ['AIAN', 'Asian', 'Black', 'Hispanic', 'White']\n",
    "df_2020 = pd.concat([to_group_df(raw_2020_df, g) for g in groups])\n",
    "df_2020 = df_2020.sort_index()\n",
    "df_2020.head()"
   ]
  },
  {
   "cell_type": "code",
   "execution_count": null,
   "id": "14590811-3ac3-4e26-930b-49246c4587a3",
   "metadata": {},
   "outputs": [],
   "source": [
    "df_2020.to_csv(\"../data/viz/division_2020.csv\", index=False)"
   ]
  },
  {
   "cell_type": "markdown",
   "id": "6bcacf60-8e39-41a5-9c8f-965ca6112369",
   "metadata": {},
   "source": [
    "# Summarize data by state\n",
    "\n",
    "Looking at county-level data is a bit overwhelming here, so let us summarize to the state level."
   ]
  },
  {
   "cell_type": "code",
   "execution_count": null,
   "id": "fc8ab24c-737d-436e-995a-24b96fe44ef8",
   "metadata": {},
   "outputs": [],
   "source": [
    "def df_to_state_df(df):\n",
    "    results = []\n",
    "    for name, gdf in df.reset_index().groupby([\"State\", \"group\"]):\n",
    "        tdf = gdf.dropna()\n",
    "        pop_total = tdf['population'].sum()\n",
    "        pop_frac =  tdf['population'] / pop_total\n",
    "        result = {'State': name[0], 'group': name[1], \n",
    "                  'population': pop_total,\n",
    "                  'life expectancy': (tdf['life expectancy'] * pop_frac).sum(),\n",
    "                  'income': (tdf['income'] * pop_frac).sum()}\n",
    "        results.append(result)\n",
    "    state_df = pd.DataFrame(results)\n",
    "    return state_df"
   ]
  },
  {
   "cell_type": "code",
   "execution_count": null,
   "id": "f8b22aaf-1844-4e5b-bae4-e1a956a7d28e",
   "metadata": {},
   "outputs": [],
   "source": [
    "state_df = df_to_state_df(df)"
   ]
  },
  {
   "cell_type": "code",
   "execution_count": null,
   "id": "f4195bd5-80ff-465a-b234-d63f9ab15c02",
   "metadata": {},
   "outputs": [],
   "source": [
    "state_df.head()"
   ]
  },
  {
   "cell_type": "markdown",
   "id": "a9253b5d-b656-41f5-b3ad-48d9064562cd",
   "metadata": {},
   "source": [
    "There is something strange happening with the model for the AIAN. "
   ]
  },
  {
   "cell_type": "code",
   "execution_count": null,
   "id": "c224f95d-5432-4950-a06a-26de35014aeb",
   "metadata": {},
   "outputs": [],
   "source": [
    "tdf = state_df[state_df['life expectancy'] > 0]\n",
    "sns.boxplot(x='group', y='life expectancy', data=tdf)"
   ]
  },
  {
   "cell_type": "code",
   "execution_count": null,
   "id": "f8b1e060-260c-4587-b362-bcb12bb017f4",
   "metadata": {},
   "outputs": [],
   "source": [
    "fig, ax = plt.subplots()\n",
    "tdf = state_df[state_df['life expectancy'] > 0]\n",
    "col_order = tdf.groupby('group').mean().sort_values('life expectancy')\n",
    "for i, group in enumerate(col_order.index):\n",
    "    ttdf = tdf[tdf['group'] == group]\n",
    "    ax.scatter(ttdf['group'], ttdf['life expectancy'], alpha=0.7)"
   ]
  },
  {
   "cell_type": "markdown",
   "id": "5c565b4c-37ee-4c44-b2eb-98d57441e76b",
   "metadata": {},
   "source": [
    "So let is exclude that group for our the moment."
   ]
  },
  {
   "cell_type": "code",
   "execution_count": null,
   "id": "599f39fc-e6bb-46a7-b299-83d3b4595967",
   "metadata": {},
   "outputs": [],
   "source": [
    "fig, ax = plt.subplots()\n",
    "tdf = state_df[state_df['group'] != 'AIAN']\n",
    "tdf = tdf[tdf['life expectancy'] > 0]\n",
    "col_order = tdf.groupby('group').mean().sort_values('life expectancy')\n",
    "for i, group in enumerate(col_order.index):\n",
    "    ttdf = tdf[tdf['group'] == group]\n",
    "    ax.scatter(ttdf['group'], ttdf['life expectancy'], alpha=0.7)"
   ]
  },
  {
   "cell_type": "markdown",
   "id": "18d30099-296d-46dc-9f7d-908eed4c06e1",
   "metadata": {},
   "source": [
    "This is the data we want to visualize, so let us export it."
   ]
  },
  {
   "cell_type": "code",
   "execution_count": null,
   "id": "d1baa1ad-21aa-4e20-8956-ac20b9be18d2",
   "metadata": {},
   "outputs": [],
   "source": [
    "tdf.to_csv(\"../data/viz/state_2022.csv\", index=False)"
   ]
  },
  {
   "cell_type": "markdown",
   "id": "79cc66b5-bba7-4173-9498-00664cc2798d",
   "metadata": {},
   "source": [
    "Same for 2020"
   ]
  },
  {
   "cell_type": "code",
   "execution_count": null,
   "id": "6767910b-ea12-48b7-8e54-df89c4e8f430",
   "metadata": {},
   "outputs": [],
   "source": [
    "state_2020_df = df_to_state_df(df_2020)\n",
    "state_2020_df.head()"
   ]
  },
  {
   "cell_type": "code",
   "execution_count": null,
   "id": "c543de73-bd1a-4ce0-abcf-3277afef68f2",
   "metadata": {},
   "outputs": [],
   "source": [
    "tdf = state_2020_df[state_2020_df['life expectancy'] > 0]\n",
    "sns.boxplot(x='group', y='life expectancy', data=tdf)"
   ]
  },
  {
   "cell_type": "markdown",
   "id": "7c290885-0cfe-43d7-bf59-4cf05e33b768",
   "metadata": {},
   "source": [
    "It looks like the AIAN model improve in 2022..."
   ]
  },
  {
   "cell_type": "code",
   "execution_count": null,
   "id": "efab13d2-a366-4726-b8ca-15ffc2ec9387",
   "metadata": {},
   "outputs": [],
   "source": [
    "fig, ax = plt.subplots()\n",
    "tdf = state_2020_df[state_2020_df['life expectancy'] > 0]\n",
    "col_order = tdf.groupby('group').mean().sort_values('life expectancy')\n",
    "for i, group in enumerate(col_order.index):\n",
    "    ttdf = tdf[tdf['group'] == group]\n",
    "    ax.scatter(ttdf['group'], ttdf['life expectancy'], alpha=0.7)"
   ]
  },
  {
   "cell_type": "markdown",
   "id": "4ef5b73a-6326-4893-81ed-4933ef89156a",
   "metadata": {},
   "source": [
    "Export this as well"
   ]
  },
  {
   "cell_type": "code",
   "execution_count": null,
   "id": "2d4c4cf2-9602-4ccc-bf7a-40b5c61eb615",
   "metadata": {},
   "outputs": [],
   "source": [
    "tdf.to_csv(\"../data/viz/state_2020.csv\", index=False)"
   ]
  },
  {
   "cell_type": "markdown",
   "id": "7b9512d8-c513-41c2-a053-65fdd6bc86dc",
   "metadata": {
    "tags": []
   },
   "source": [
    "# Income model\n",
    "\n",
    "What is the relationship between income and life expectancy"
   ]
  },
  {
   "cell_type": "code",
   "execution_count": null,
   "id": "afc54ca8-473f-4d30-b3b8-d2897b808051",
   "metadata": {},
   "outputs": [],
   "source": [
    "class LinReg:\n",
    "    def __init__(self, df, xcol, ycol):\n",
    "        self.df = df\n",
    "        self.xcol = xcol\n",
    "        self.ycol = ycol\n",
    "        self.lm = None\n",
    "        self.pred_range = None\n",
    "        self.preds_input = None\n",
    "        self.predictions = None\n",
    "\n",
    "    def fit(self):\n",
    "        df = self.df\n",
    "        xcol= self.xcol\n",
    "        lm = smf.ols(formula=f\"{self.ycol} ~ {xcol}\", data=df).fit()\n",
    "        pred_range = (df[xcol].min(), df[xcol].max())\n",
    "        preds_input = pd.DataFrame({xcol: pred_range})\n",
    "        predictions = lm.predict(preds_input)\n",
    "        self.lm = lm\n",
    "        self.pred_range = pred_range\n",
    "        self.preds_input = preds_input\n",
    "        self.predictions = predictions"
   ]
  },
  {
   "cell_type": "code",
   "execution_count": null,
   "id": "170cd2c4-3733-4edf-ae29-47e065d16c53",
   "metadata": {},
   "outputs": [],
   "source": [
    "reg_dfs = []\n",
    "tdf = state_df[state_df['life expectancy'] > 0]\n",
    "tdf = tdf.rename(columns={'life expectancy': 'le'})\n",
    "tdf['income'] = tdf['income'] / 1000\n",
    "col_order = tdf.groupby('group').mean().sort_values('le')\n",
    "for i, group in enumerate(col_order.index):\n",
    "    ttdf = tdf[tdf['group'] == group]\n",
    "    model = LinReg(ttdf, 'income', 'le')\n",
    "    model.fit()\n",
    "    reg_df = pd.DataFrame({\"x\": model.pred_range, \"y\": model.predictions})\n",
    "    reg_df['r2'] = model.lm.rsquared\n",
    "    reg_df['slope'] = model.lm.params['income']\n",
    "    reg_df['group'] = group\n",
    "    reg_dfs.append(reg_df)\n",
    "reg_df = pd.concat(reg_dfs)\n",
    "reg_df"
   ]
  },
  {
   "cell_type": "code",
   "execution_count": null,
   "id": "6451928e-e327-4129-b989-088ff5835006",
   "metadata": {},
   "outputs": [],
   "source": [
    "tdf = state_df[state_df['life expectancy'] > 0]\n",
    "col_order = tdf.groupby('group').mean().sort_values('life expectancy')\n",
    "fig, axs = plt.subplots(1, len(col_order), sharex=True, sharey=True, figsize=(12, 3))\n",
    "for i, group in enumerate(col_order.index):\n",
    "    ttdf = tdf[tdf['group'] == group]\n",
    "    ax = axs[i]\n",
    "    ax.scatter(ttdf['income'] / 1000, ttdf['life expectancy'], alpha=0.5)\n",
    "    ax.set_title(group)\n",
    "    if i == 0:\n",
    "        ax.set_ylabel('life expectancy')\n",
    "        ax.set_xlabel('income (thousands)')\n",
    "    ttdf = reg_df[reg_df['group'] == group]\n",
    "    ax.plot(ttdf['x'], ttdf['y'])"
   ]
  },
  {
   "cell_type": "markdown",
   "id": "c40cda01-c1c2-4b08-8de8-8b028d160d56",
   "metadata": {},
   "source": [
    "Save this regression model"
   ]
  },
  {
   "cell_type": "code",
   "execution_count": null,
   "id": "29e99b2c-fcec-4cb0-806a-12eb45bbd3a7",
   "metadata": {},
   "outputs": [],
   "source": [
    "reg_df.to_csv(\"../data/viz/regression_2022.csv\", index=False)"
   ]
  }
 ],
 "metadata": {
  "kernelspec": {
   "display_name": "Python 3 (ipykernel)",
   "language": "python",
   "name": "python3"
  },
  "language_info": {
   "codemirror_mode": {
    "name": "ipython",
    "version": 3
   },
   "file_extension": ".py",
   "mimetype": "text/x-python",
   "name": "python",
   "nbconvert_exporter": "python",
   "pygments_lexer": "ipython3",
   "version": "3.10.5"
  }
 },
 "nbformat": 4,
 "nbformat_minor": 5
}
